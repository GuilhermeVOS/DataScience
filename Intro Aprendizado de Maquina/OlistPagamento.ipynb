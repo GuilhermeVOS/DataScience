{
 "cells": [
  {
   "cell_type": "markdown",
   "source": [
    "# Formas de pagamento mais populares nas plataformas geridas pela Olist\n",
    "\n",
    "Este estudo visa entender os padrões de pagamento de clientes em plataformas de e-commerce. Bem como tentar prever pelo valor da compra se será feito no crédito, boleto, etc...\n",
    "O dataset usado é o [Brazilian E-Commerce Public Dataset](https://www.kaggle.com/datasets/olistbr/brazilian-ecommerce) disponibilizado pela Olist na plataforma Kaggle. O Dataset contém informações sobre compras realizadas de 2016 a 2018, incluindo dados dos clientes, compradores, geográficos, formas de pagamento e os itens que foram comprados.\n"
   ],
   "metadata": {
    "collapsed": false
   },
   "id": "c925998552a14c65"
  },
  {
   "cell_type": "markdown",
   "source": [
    "# Schema do Banco de Dados\n",
    "<img src=\"images/schema.png\" alt=\"schema\" width=\"1000\"/>"
   ],
   "metadata": {
    "collapsed": false
   },
   "id": "155ec418a3ac97ab"
  },
  {
   "cell_type": "markdown",
   "source": [
    "## As tabelas revelantes para a pesquisa são:\n",
    "\n",
    "### 1. Pagamentos, em cinza\n",
    "### 2. Pedidos, em vermelho\n",
    "### 3. E Clientes em azul claro\n",
    "\n",
    "#### Também serão exploradas as relações entre os métodos de pagamentos usados por clientes que moram em capitais versus o resto do Brazil."
   ],
   "metadata": {
    "collapsed": false
   },
   "id": "8cdf4002b9ae9738"
  },
  {
   "cell_type": "code",
   "execution_count": 134,
   "outputs": [
    {
     "data": {
      "text/plain": "                           order_id  payment_sequential payment_type  \\\n0  b81ef226f3fe1789b1e8b2acac839d17                   1  credit_card   \n1  a9810da82917af2d9aefd1278f1dcfa0                   1  credit_card   \n2  25e8ea4e93396b6fa0d3dd708e76c1bd                   1  credit_card   \n3  ba78997921bbcdc1373bb41e913ab953                   1  credit_card   \n4  42fdf880ba16b47b59251dd489d4441a                   1  credit_card   \n5  298fcdf1f73eb413e4d26d01b25bc1cd                   1  credit_card   \n6  771ee386b001f06208a7419e4fc1bbd7                   1  credit_card   \n7  3d7239c394a212faae122962df514ac7                   1  credit_card   \n8  1f78449c87a54faf9e96e88ba1491fa9                   1  credit_card   \n9  0573b5e23cbd798006520e1d5b4c6714                   1       boleto   \n\n   payment_installments  payment_value  \n0                     8          99.33  \n1                     1          24.39  \n2                     1          65.71  \n3                     8         107.78  \n4                     2         128.45  \n5                     2          96.12  \n6                     1          81.16  \n7                     3          51.84  \n8                     6         341.09  \n9                     1          51.95  ",
      "text/html": "<div>\n<style scoped>\n    .dataframe tbody tr th:only-of-type {\n        vertical-align: middle;\n    }\n\n    .dataframe tbody tr th {\n        vertical-align: top;\n    }\n\n    .dataframe thead th {\n        text-align: right;\n    }\n</style>\n<table border=\"1\" class=\"dataframe\">\n  <thead>\n    <tr style=\"text-align: right;\">\n      <th></th>\n      <th>order_id</th>\n      <th>payment_sequential</th>\n      <th>payment_type</th>\n      <th>payment_installments</th>\n      <th>payment_value</th>\n    </tr>\n  </thead>\n  <tbody>\n    <tr>\n      <th>0</th>\n      <td>b81ef226f3fe1789b1e8b2acac839d17</td>\n      <td>1</td>\n      <td>credit_card</td>\n      <td>8</td>\n      <td>99.33</td>\n    </tr>\n    <tr>\n      <th>1</th>\n      <td>a9810da82917af2d9aefd1278f1dcfa0</td>\n      <td>1</td>\n      <td>credit_card</td>\n      <td>1</td>\n      <td>24.39</td>\n    </tr>\n    <tr>\n      <th>2</th>\n      <td>25e8ea4e93396b6fa0d3dd708e76c1bd</td>\n      <td>1</td>\n      <td>credit_card</td>\n      <td>1</td>\n      <td>65.71</td>\n    </tr>\n    <tr>\n      <th>3</th>\n      <td>ba78997921bbcdc1373bb41e913ab953</td>\n      <td>1</td>\n      <td>credit_card</td>\n      <td>8</td>\n      <td>107.78</td>\n    </tr>\n    <tr>\n      <th>4</th>\n      <td>42fdf880ba16b47b59251dd489d4441a</td>\n      <td>1</td>\n      <td>credit_card</td>\n      <td>2</td>\n      <td>128.45</td>\n    </tr>\n    <tr>\n      <th>5</th>\n      <td>298fcdf1f73eb413e4d26d01b25bc1cd</td>\n      <td>1</td>\n      <td>credit_card</td>\n      <td>2</td>\n      <td>96.12</td>\n    </tr>\n    <tr>\n      <th>6</th>\n      <td>771ee386b001f06208a7419e4fc1bbd7</td>\n      <td>1</td>\n      <td>credit_card</td>\n      <td>1</td>\n      <td>81.16</td>\n    </tr>\n    <tr>\n      <th>7</th>\n      <td>3d7239c394a212faae122962df514ac7</td>\n      <td>1</td>\n      <td>credit_card</td>\n      <td>3</td>\n      <td>51.84</td>\n    </tr>\n    <tr>\n      <th>8</th>\n      <td>1f78449c87a54faf9e96e88ba1491fa9</td>\n      <td>1</td>\n      <td>credit_card</td>\n      <td>6</td>\n      <td>341.09</td>\n    </tr>\n    <tr>\n      <th>9</th>\n      <td>0573b5e23cbd798006520e1d5b4c6714</td>\n      <td>1</td>\n      <td>boleto</td>\n      <td>1</td>\n      <td>51.95</td>\n    </tr>\n  </tbody>\n</table>\n</div>"
     },
     "execution_count": 134,
     "metadata": {},
     "output_type": "execute_result"
    }
   ],
   "source": [
    "import pandas as pd \n",
    "\n",
    "pagamentos = pd.read_csv(\"olist_order_payments_dataset.csv\")\n",
    "\n",
    "pagamentos.head(10)"
   ],
   "metadata": {
    "collapsed": false,
    "ExecuteTime": {
     "end_time": "2023-12-01T20:48:06.235235700Z",
     "start_time": "2023-12-01T20:48:05.601738900Z"
    }
   },
   "id": "ba54c11730d79b7d"
  },
  {
   "cell_type": "code",
   "execution_count": 135,
   "outputs": [
    {
     "name": "stdout",
     "output_type": "stream",
     "text": [
      "<class 'pandas.core.frame.DataFrame'>\n",
      "RangeIndex: 103886 entries, 0 to 103885\n",
      "Data columns (total 5 columns):\n",
      " #   Column                Non-Null Count   Dtype  \n",
      "---  ------                --------------   -----  \n",
      " 0   order_id              103886 non-null  object \n",
      " 1   payment_sequential    103886 non-null  int64  \n",
      " 2   payment_type          103886 non-null  object \n",
      " 3   payment_installments  103886 non-null  int64  \n",
      " 4   payment_value         103886 non-null  float64\n",
      "dtypes: float64(1), int64(2), object(2)\n",
      "memory usage: 4.0+ MB\n"
     ]
    }
   ],
   "source": [
    "pagamentos.info()"
   ],
   "metadata": {
    "collapsed": false,
    "ExecuteTime": {
     "end_time": "2023-12-01T20:48:06.235235700Z",
     "start_time": "2023-12-01T20:48:05.785640400Z"
    }
   },
   "id": "b4ded7a448b5b16"
  },
  {
   "cell_type": "code",
   "execution_count": 136,
   "outputs": [
    {
     "data": {
      "text/plain": "       payment_sequential  payment_installments  payment_value\ncount       103886.000000         103886.000000  103886.000000\nmean             1.092679              2.853349     154.100380\nstd              0.706584              2.687051     217.494064\nmin              1.000000              0.000000       0.000000\n25%              1.000000              1.000000      56.790000\n50%              1.000000              1.000000     100.000000\n75%              1.000000              4.000000     171.837500\nmax             29.000000             24.000000   13664.080000",
      "text/html": "<div>\n<style scoped>\n    .dataframe tbody tr th:only-of-type {\n        vertical-align: middle;\n    }\n\n    .dataframe tbody tr th {\n        vertical-align: top;\n    }\n\n    .dataframe thead th {\n        text-align: right;\n    }\n</style>\n<table border=\"1\" class=\"dataframe\">\n  <thead>\n    <tr style=\"text-align: right;\">\n      <th></th>\n      <th>payment_sequential</th>\n      <th>payment_installments</th>\n      <th>payment_value</th>\n    </tr>\n  </thead>\n  <tbody>\n    <tr>\n      <th>count</th>\n      <td>103886.000000</td>\n      <td>103886.000000</td>\n      <td>103886.000000</td>\n    </tr>\n    <tr>\n      <th>mean</th>\n      <td>1.092679</td>\n      <td>2.853349</td>\n      <td>154.100380</td>\n    </tr>\n    <tr>\n      <th>std</th>\n      <td>0.706584</td>\n      <td>2.687051</td>\n      <td>217.494064</td>\n    </tr>\n    <tr>\n      <th>min</th>\n      <td>1.000000</td>\n      <td>0.000000</td>\n      <td>0.000000</td>\n    </tr>\n    <tr>\n      <th>25%</th>\n      <td>1.000000</td>\n      <td>1.000000</td>\n      <td>56.790000</td>\n    </tr>\n    <tr>\n      <th>50%</th>\n      <td>1.000000</td>\n      <td>1.000000</td>\n      <td>100.000000</td>\n    </tr>\n    <tr>\n      <th>75%</th>\n      <td>1.000000</td>\n      <td>4.000000</td>\n      <td>171.837500</td>\n    </tr>\n    <tr>\n      <th>max</th>\n      <td>29.000000</td>\n      <td>24.000000</td>\n      <td>13664.080000</td>\n    </tr>\n  </tbody>\n</table>\n</div>"
     },
     "execution_count": 136,
     "metadata": {},
     "output_type": "execute_result"
    }
   ],
   "source": [
    "pagamentos.describe()"
   ],
   "metadata": {
    "collapsed": false,
    "ExecuteTime": {
     "end_time": "2023-12-01T20:48:06.237574Z",
     "start_time": "2023-12-01T20:48:05.807801900Z"
    }
   },
   "id": "8aa16a3d0c659d15"
  },
  {
   "cell_type": "markdown",
   "source": [
    "Como o número de não-nulos bate com o número de linhas totais do dataset, concluímos que pouca ou nenhuma limpeza dos dados será necessária.\n",
    "Pelo método describe também obtemos duas estatísticas interessantes: O valor médio de uma compra do brasileiro é de 154 reais. O número médio de parcelas numa compra no crédito é próximo de 3. Levando em consideração o desvio padrão de 217 reais para o valor da compra, estima-se que compras acima de 1000 reais são bem raras. Vamos tirar sua porcentagem:"
   ],
   "metadata": {
    "collapsed": false
   },
   "id": "b42112abdcecf467"
  },
  {
   "cell_type": "code",
   "execution_count": 137,
   "outputs": [
    {
     "data": {
      "text/plain": "0.011069826540631076"
     },
     "execution_count": 137,
     "metadata": {},
     "output_type": "execute_result"
    }
   ],
   "source": [
    "pagamentos[pagamentos[\"payment_value\"] >= 1000].shape[0]/pagamentos.shape[0]\n"
   ],
   "metadata": {
    "collapsed": false,
    "ExecuteTime": {
     "end_time": "2023-12-01T20:48:06.238570300Z",
     "start_time": "2023-12-01T20:48:05.842650800Z"
    }
   },
   "id": "afb191cc3ed09555"
  },
  {
   "cell_type": "markdown",
   "source": [
    "### Compras acima de 1000 reais representam apenas 1,106% dos dados."
   ],
   "metadata": {
    "collapsed": false
   },
   "id": "b3b4b6f39050cd9e"
  },
  {
   "cell_type": "code",
   "execution_count": 138,
   "outputs": [
    {
     "data": {
      "text/plain": "Text(0, 0.5, 'Contagem')"
     },
     "execution_count": 138,
     "metadata": {},
     "output_type": "execute_result"
    }
   ],
   "source": [
    "import numpy as np\n",
    "import matplotlib.pyplot as plt\n",
    "import seaborn as sns\n",
    "sns.set_style(\"darkgrid\", {\"grid.color\": \".6\", \"grid.linestyle\": \":\"})\n",
    "\n",
    "fig, ax = plt.subplots(figsize=(8,8))\n",
    "grafico = sns.histplot(ax=ax, data=pagamentos, x=\"payment_value\", bins=500)\n",
    "grafico.set_xlim(0,1000)\n",
    "grafico.set_xlabel(\"Valor do pagamento\")\n",
    "grafico.set_ylabel(\"Contagem\")\n"
   ],
   "metadata": {
    "collapsed": false,
    "ExecuteTime": {
     "end_time": "2023-12-01T20:48:07.165447300Z",
     "start_time": "2023-12-01T20:48:05.863156300Z"
    }
   },
   "id": "907bf910c417d72a"
  },
  {
   "cell_type": "markdown",
   "source": [
    "### Podemos ver claramente as tendências, a maioria das compras se concentra na faixa de 0 a 200 reais, com valores mais altos tendo uma frequência decrescente. Como se tratam de pagamentos, tratar os valores muito altos como outliers e retirá-los do estudo não é interessante."
   ],
   "metadata": {
    "collapsed": false
   },
   "id": "726efc6661c0edcc"
  },
  {
   "cell_type": "code",
   "execution_count": 139,
   "outputs": [
    {
     "data": {
      "text/plain": "<Axes: xlabel='payment_type', ylabel='Contagem'>"
     },
     "execution_count": 139,
     "metadata": {},
     "output_type": "execute_result"
    }
   ],
   "source": [
    "(pagamentos[\"payment_type\"].value_counts()/pagamentos.shape[0]).plot.bar()"
   ],
   "metadata": {
    "collapsed": false,
    "ExecuteTime": {
     "end_time": "2023-12-01T20:48:07.191415900Z",
     "start_time": "2023-12-01T20:48:07.161319600Z"
    }
   },
   "id": "22196da90ea834d0"
  },
  {
   "cell_type": "markdown",
   "source": [
    "## Temos que aproximadamente:\n",
    "#### 1. 74% das compras são via cartão de crédito\n",
    "#### 2. 19% via boleto\n",
    "#### 3. 5.5% via voucher\n",
    "#### 4. 1.4% via débito"
   ],
   "metadata": {
    "collapsed": false
   },
   "id": "25294f5778dd3bc7"
  },
  {
   "cell_type": "markdown",
   "source": [
    "## Temos 3 linhas com um método de pagamento não especificado: vamos retirá-las para construção dos modelos de machine learning."
   ],
   "metadata": {
    "collapsed": false
   },
   "id": "89d668f682127a48"
  },
  {
   "cell_type": "code",
   "execution_count": 140,
   "outputs": [
    {
     "data": {
      "text/plain": "payment_type\ncredit_card    76795\nboleto         19784\nvoucher         5775\ndebit_card      1529\nName: count, dtype: int64"
     },
     "execution_count": 140,
     "metadata": {},
     "output_type": "execute_result"
    }
   ],
   "source": [
    "pagamentos_filtrado = pagamentos.loc[pagamentos['payment_type'] != 'not_defined']\n",
    "pagamentos_filtrado[\"payment_type\"].value_counts()"
   ],
   "metadata": {
    "collapsed": false,
    "ExecuteTime": {
     "end_time": "2023-12-01T20:48:07.294862500Z",
     "start_time": "2023-12-01T20:48:07.192761800Z"
    }
   },
   "id": "be404aa92b1252c7"
  },
  {
   "cell_type": "code",
   "execution_count": 141,
   "outputs": [
    {
     "data": {
      "text/plain": "                           order_id  payment_sequential payment_type  \\\n0  b81ef226f3fe1789b1e8b2acac839d17                   1  credit_card   \n1  a9810da82917af2d9aefd1278f1dcfa0                   1  credit_card   \n2  25e8ea4e93396b6fa0d3dd708e76c1bd                   1  credit_card   \n3  ba78997921bbcdc1373bb41e913ab953                   1  credit_card   \n4  42fdf880ba16b47b59251dd489d4441a                   1  credit_card   \n\n   payment_installments  payment_value  \n0                     8          99.33  \n1                     1          24.39  \n2                     1          65.71  \n3                     8         107.78  \n4                     2         128.45  ",
      "text/html": "<div>\n<style scoped>\n    .dataframe tbody tr th:only-of-type {\n        vertical-align: middle;\n    }\n\n    .dataframe tbody tr th {\n        vertical-align: top;\n    }\n\n    .dataframe thead th {\n        text-align: right;\n    }\n</style>\n<table border=\"1\" class=\"dataframe\">\n  <thead>\n    <tr style=\"text-align: right;\">\n      <th></th>\n      <th>order_id</th>\n      <th>payment_sequential</th>\n      <th>payment_type</th>\n      <th>payment_installments</th>\n      <th>payment_value</th>\n    </tr>\n  </thead>\n  <tbody>\n    <tr>\n      <th>0</th>\n      <td>b81ef226f3fe1789b1e8b2acac839d17</td>\n      <td>1</td>\n      <td>credit_card</td>\n      <td>8</td>\n      <td>99.33</td>\n    </tr>\n    <tr>\n      <th>1</th>\n      <td>a9810da82917af2d9aefd1278f1dcfa0</td>\n      <td>1</td>\n      <td>credit_card</td>\n      <td>1</td>\n      <td>24.39</td>\n    </tr>\n    <tr>\n      <th>2</th>\n      <td>25e8ea4e93396b6fa0d3dd708e76c1bd</td>\n      <td>1</td>\n      <td>credit_card</td>\n      <td>1</td>\n      <td>65.71</td>\n    </tr>\n    <tr>\n      <th>3</th>\n      <td>ba78997921bbcdc1373bb41e913ab953</td>\n      <td>1</td>\n      <td>credit_card</td>\n      <td>8</td>\n      <td>107.78</td>\n    </tr>\n    <tr>\n      <th>4</th>\n      <td>42fdf880ba16b47b59251dd489d4441a</td>\n      <td>1</td>\n      <td>credit_card</td>\n      <td>2</td>\n      <td>128.45</td>\n    </tr>\n  </tbody>\n</table>\n</div>"
     },
     "execution_count": 141,
     "metadata": {},
     "output_type": "execute_result"
    }
   ],
   "source": [
    "pagamentos_filtrado.head()"
   ],
   "metadata": {
    "collapsed": false,
    "ExecuteTime": {
     "end_time": "2023-12-01T20:48:07.296187400Z",
     "start_time": "2023-12-01T20:48:07.231978300Z"
    }
   },
   "id": "841aa82b7968ca36"
  },
  {
   "cell_type": "markdown",
   "source": [
    "Precisamos retirar colunas que não agregam valor as predições: order_id que é apenas um identificador dos pedidos e payment_installments que se refere ao número de parcelas da compra. Payment_installments automaticamente introduziria overfitting no modelo por ser um atributo específico de pagamentos realizados no crédito quando o valor é maior que 1. Pagamento sequencial também não afeta já que é possível mesclar todas as 4 formas de pagamento. Neste momento inicial ficariamos apenas com o tipo da compra e o valor. Um número limitado de features que deverá produzir modelos com acurácia baixa. Portanto, traremos informações sobre o local da compra para agregar valor as predições."
   ],
   "metadata": {
    "collapsed": false
   },
   "id": "b4486138b224e7af"
  },
  {
   "cell_type": "code",
   "execution_count": 142,
   "outputs": [
    {
     "data": {
      "text/plain": "                           order_id  payment_sequential payment_type  \\\n0  b81ef226f3fe1789b1e8b2acac839d17                   1  credit_card   \n1  a9810da82917af2d9aefd1278f1dcfa0                   1  credit_card   \n2  25e8ea4e93396b6fa0d3dd708e76c1bd                   1  credit_card   \n3  ba78997921bbcdc1373bb41e913ab953                   1  credit_card   \n4  42fdf880ba16b47b59251dd489d4441a                   1  credit_card   \n\n   payment_installments  payment_value                       customer_id  \\\n0                     8          99.33  0a8556ac6be836b46b3e89920d59291c   \n1                     1          24.39  f2c7fc58a9de810828715166c672f10a   \n2                     1          65.71  25b14b69de0b6e184ae6fe2755e478f9   \n3                     8         107.78  7a5d8efaaa1081f800628c30d2b0728f   \n4                     2         128.45  15fd6fb8f8312dbb4674e4518d6fa3b3   \n\n  order_status order_purchase_timestamp    order_approved_at  \\\n0    delivered      2018-04-25 22:01:49  2018-04-25 22:15:09   \n1    delivered      2018-06-26 11:01:38  2018-06-26 11:18:58   \n2    delivered      2017-12-12 11:19:55  2017-12-14 09:52:34   \n3    delivered      2017-12-06 12:04:06  2017-12-06 12:13:20   \n4    delivered      2018-05-21 13:59:17  2018-05-21 16:14:41   \n\n  order_delivered_carrier_date order_delivered_customer_date  \\\n0          2018-05-02 15:20:00           2018-05-09 17:36:51   \n1          2018-06-28 14:18:00           2018-06-29 20:32:09   \n2          2017-12-15 20:13:22           2017-12-18 17:24:41   \n3          2017-12-07 20:28:28           2017-12-21 01:35:51   \n4          2018-05-22 11:46:00           2018-06-01 21:44:53   \n\n  order_estimated_delivery_date                customer_unique_id  \\\n0           2018-05-22 00:00:00  708ab75d2a007f0564aedd11139c7708   \n1           2018-07-16 00:00:00  a8b9d3a27068454b1c98cc67d4e31e6f   \n2           2018-01-04 00:00:00  6f70c0b2f7552832ba46eb57b1c5651e   \n3           2018-01-04 00:00:00  87695ed086ebd36f20404c82d20fca87   \n4           2018-06-13 00:00:00  4291db0da71914754618cd789aebcd56   \n\n   customer_zip_code_prefix  customer_city customer_state  \n0                     39801  teofilo otoni             MG  \n1                      2422      sao paulo             SP  \n2                      2652      sao paulo             SP  \n3                     36060   juiz de fora             MG  \n4                     18570        conchas             SP  ",
      "text/html": "<div>\n<style scoped>\n    .dataframe tbody tr th:only-of-type {\n        vertical-align: middle;\n    }\n\n    .dataframe tbody tr th {\n        vertical-align: top;\n    }\n\n    .dataframe thead th {\n        text-align: right;\n    }\n</style>\n<table border=\"1\" class=\"dataframe\">\n  <thead>\n    <tr style=\"text-align: right;\">\n      <th></th>\n      <th>order_id</th>\n      <th>payment_sequential</th>\n      <th>payment_type</th>\n      <th>payment_installments</th>\n      <th>payment_value</th>\n      <th>customer_id</th>\n      <th>order_status</th>\n      <th>order_purchase_timestamp</th>\n      <th>order_approved_at</th>\n      <th>order_delivered_carrier_date</th>\n      <th>order_delivered_customer_date</th>\n      <th>order_estimated_delivery_date</th>\n      <th>customer_unique_id</th>\n      <th>customer_zip_code_prefix</th>\n      <th>customer_city</th>\n      <th>customer_state</th>\n    </tr>\n  </thead>\n  <tbody>\n    <tr>\n      <th>0</th>\n      <td>b81ef226f3fe1789b1e8b2acac839d17</td>\n      <td>1</td>\n      <td>credit_card</td>\n      <td>8</td>\n      <td>99.33</td>\n      <td>0a8556ac6be836b46b3e89920d59291c</td>\n      <td>delivered</td>\n      <td>2018-04-25 22:01:49</td>\n      <td>2018-04-25 22:15:09</td>\n      <td>2018-05-02 15:20:00</td>\n      <td>2018-05-09 17:36:51</td>\n      <td>2018-05-22 00:00:00</td>\n      <td>708ab75d2a007f0564aedd11139c7708</td>\n      <td>39801</td>\n      <td>teofilo otoni</td>\n      <td>MG</td>\n    </tr>\n    <tr>\n      <th>1</th>\n      <td>a9810da82917af2d9aefd1278f1dcfa0</td>\n      <td>1</td>\n      <td>credit_card</td>\n      <td>1</td>\n      <td>24.39</td>\n      <td>f2c7fc58a9de810828715166c672f10a</td>\n      <td>delivered</td>\n      <td>2018-06-26 11:01:38</td>\n      <td>2018-06-26 11:18:58</td>\n      <td>2018-06-28 14:18:00</td>\n      <td>2018-06-29 20:32:09</td>\n      <td>2018-07-16 00:00:00</td>\n      <td>a8b9d3a27068454b1c98cc67d4e31e6f</td>\n      <td>2422</td>\n      <td>sao paulo</td>\n      <td>SP</td>\n    </tr>\n    <tr>\n      <th>2</th>\n      <td>25e8ea4e93396b6fa0d3dd708e76c1bd</td>\n      <td>1</td>\n      <td>credit_card</td>\n      <td>1</td>\n      <td>65.71</td>\n      <td>25b14b69de0b6e184ae6fe2755e478f9</td>\n      <td>delivered</td>\n      <td>2017-12-12 11:19:55</td>\n      <td>2017-12-14 09:52:34</td>\n      <td>2017-12-15 20:13:22</td>\n      <td>2017-12-18 17:24:41</td>\n      <td>2018-01-04 00:00:00</td>\n      <td>6f70c0b2f7552832ba46eb57b1c5651e</td>\n      <td>2652</td>\n      <td>sao paulo</td>\n      <td>SP</td>\n    </tr>\n    <tr>\n      <th>3</th>\n      <td>ba78997921bbcdc1373bb41e913ab953</td>\n      <td>1</td>\n      <td>credit_card</td>\n      <td>8</td>\n      <td>107.78</td>\n      <td>7a5d8efaaa1081f800628c30d2b0728f</td>\n      <td>delivered</td>\n      <td>2017-12-06 12:04:06</td>\n      <td>2017-12-06 12:13:20</td>\n      <td>2017-12-07 20:28:28</td>\n      <td>2017-12-21 01:35:51</td>\n      <td>2018-01-04 00:00:00</td>\n      <td>87695ed086ebd36f20404c82d20fca87</td>\n      <td>36060</td>\n      <td>juiz de fora</td>\n      <td>MG</td>\n    </tr>\n    <tr>\n      <th>4</th>\n      <td>42fdf880ba16b47b59251dd489d4441a</td>\n      <td>1</td>\n      <td>credit_card</td>\n      <td>2</td>\n      <td>128.45</td>\n      <td>15fd6fb8f8312dbb4674e4518d6fa3b3</td>\n      <td>delivered</td>\n      <td>2018-05-21 13:59:17</td>\n      <td>2018-05-21 16:14:41</td>\n      <td>2018-05-22 11:46:00</td>\n      <td>2018-06-01 21:44:53</td>\n      <td>2018-06-13 00:00:00</td>\n      <td>4291db0da71914754618cd789aebcd56</td>\n      <td>18570</td>\n      <td>conchas</td>\n      <td>SP</td>\n    </tr>\n  </tbody>\n</table>\n</div>"
     },
     "execution_count": 142,
     "metadata": {},
     "output_type": "execute_result"
    }
   ],
   "source": [
    "usuarios = pd.read_csv(\"olist_customers_dataset.csv\")\n",
    "pedidos = pd.read_csv(\"olist_orders_dataset.csv\")\n",
    "\n",
    "pagamentos_cep = pagamentos_filtrado.merge(pedidos, on=\"order_id\").merge(usuarios, on=\"customer_id\")\n",
    "pagamentos_cep.head()"
   ],
   "metadata": {
    "collapsed": false,
    "ExecuteTime": {
     "end_time": "2023-12-01T20:48:08.530348Z",
     "start_time": "2023-12-01T20:48:07.262368200Z"
    }
   },
   "id": "6e27a8db4c731651"
  },
  {
   "cell_type": "code",
   "execution_count": 143,
   "outputs": [
    {
     "data": {
      "text/plain": "Index(['order_id', 'payment_sequential', 'payment_type',\n       'payment_installments', 'payment_value', 'customer_id', 'order_status',\n       'order_purchase_timestamp', 'order_approved_at',\n       'order_delivered_carrier_date', 'order_delivered_customer_date',\n       'order_estimated_delivery_date', 'customer_unique_id',\n       'customer_zip_code_prefix', 'customer_city', 'customer_state'],\n      dtype='object')"
     },
     "execution_count": 143,
     "metadata": {},
     "output_type": "execute_result"
    }
   ],
   "source": [
    "pagamentos_cep.columns"
   ],
   "metadata": {
    "collapsed": false,
    "ExecuteTime": {
     "end_time": "2023-12-01T20:48:08.547150500Z",
     "start_time": "2023-12-01T20:48:08.532475200Z"
    }
   },
   "id": "721ddc888679cc9b"
  },
  {
   "cell_type": "markdown",
   "source": [
    "Vamos novamente selecionar apenas colunas que parecem que ter efeitos na predição. Removeremos os Id's e as colunas de tempo."
   ],
   "metadata": {
    "collapsed": false
   },
   "id": "6947eebbf7b88975"
  },
  {
   "cell_type": "code",
   "execution_count": 144,
   "outputs": [],
   "source": [
    "features = ['payment_value']\n",
    "target = \"payment_type\""
   ],
   "metadata": {
    "collapsed": false,
    "ExecuteTime": {
     "end_time": "2023-12-01T20:48:08.583245500Z",
     "start_time": "2023-12-01T20:48:08.540266100Z"
    }
   },
   "id": "995c9ded22996513"
  },
  {
   "cell_type": "markdown",
   "source": [
    "# Optamos por retirar as cidades nesse primeiro teste já que existem muitas cidades com nomes repetidos em diferentes estados.\n",
    "\n",
    "## Seleções:\n",
    "### 1. Valor do pagamento\n",
    "### 2. CEP\n",
    "### 3. Estado"
   ],
   "metadata": {
    "collapsed": false
   },
   "id": "7d546d027b1a2662"
  },
  {
   "cell_type": "markdown",
   "source": [
    "## Começamos o processo de machine learning separando e fazendo o encoding das features. Também separamos 20% do dataset para teste. Transformaremos a sigla de cada estado em um valor."
   ],
   "metadata": {
    "collapsed": false
   },
   "id": "714cd8419e1d47f7"
  },
  {
   "cell_type": "code",
   "execution_count": 145,
   "outputs": [],
   "source": [
    "from sklearn.model_selection import train_test_split\n",
    "\n",
    "\n",
    "estados = pagamentos_cep[\"customer_state\"].str.get_dummies()\n",
    "\n",
    "estados_nomes = estados.columns\n",
    "\n",
    "encoded_pagamentos = pagamentos_cep.join(estados)\n",
    "\n",
    "for coluna in estados_nomes:\n",
    "    features.append(coluna)\n",
    "\n",
    "X = encoded_pagamentos[features]\n",
    "y = pagamentos_filtrado[target]\n",
    "\n",
    "X_train, X_test, y_train, y_test = train_test_split(X,y,test_size=0.2,random_state=64)\n"
   ],
   "metadata": {
    "collapsed": false,
    "ExecuteTime": {
     "end_time": "2023-12-01T20:48:10.257314500Z",
     "start_time": "2023-12-01T20:48:08.552389800Z"
    }
   },
   "id": "82f352f9a7f6c7a5"
  },
  {
   "cell_type": "markdown",
   "source": [
    "## Utilizaremos 3 modelos com níveis crescentes de complexidade, Logistic Regressor, SVM classifier e Random Forest classifier. Em especial o modelo Random Forest é do tipo Emsemble, que tenta aumentar a acurácia das previsões criando modelos mais específicos com sistema de votação. Começamos com o modelo mais básico de regressão lógica."
   ],
   "metadata": {
    "collapsed": false
   },
   "id": "4b915d1f137667e2"
  },
  {
   "cell_type": "code",
   "execution_count": 146,
   "outputs": [],
   "source": [
    "from sklearn.linear_model import LogisticRegression\n",
    "\n",
    "LogRegModel = LogisticRegression(random_state=64)\n",
    "LogRegModel.fit(X_train, y_train);\n",
    "resultado_LogReg = pd.DataFrame(LogRegModel.predict(X_test))"
   ],
   "metadata": {
    "collapsed": false,
    "ExecuteTime": {
     "end_time": "2023-12-01T20:48:12.591003600Z",
     "start_time": "2023-12-01T20:48:10.260732Z"
    }
   },
   "id": "be1dd041024a81b2"
  },
  {
   "cell_type": "code",
   "execution_count": 147,
   "outputs": [
    {
     "data": {
      "text/plain": "credit_card    20777\nName: count, dtype: int64"
     },
     "execution_count": 147,
     "metadata": {},
     "output_type": "execute_result"
    }
   ],
   "source": [
    "resultado_LogReg.value_counts()"
   ],
   "metadata": {
    "collapsed": false,
    "ExecuteTime": {
     "end_time": "2023-12-01T20:48:12.607764400Z",
     "start_time": "2023-12-01T20:48:12.597470700Z"
    }
   },
   "id": "249de1ac1d2431f0"
  },
  {
   "cell_type": "code",
   "execution_count": 148,
   "outputs": [
    {
     "data": {
      "text/plain": "payment_type\ncredit_card    15339\nboleto          3948\nvoucher         1168\ndebit_card       322\nName: count, dtype: int64"
     },
     "execution_count": 148,
     "metadata": {},
     "output_type": "execute_result"
    }
   ],
   "source": [
    "y_test.value_counts()"
   ],
   "metadata": {
    "collapsed": false,
    "ExecuteTime": {
     "end_time": "2023-12-01T20:48:12.634959400Z",
     "start_time": "2023-12-01T20:48:12.607764400Z"
    }
   },
   "id": "f179a21644276fb2"
  },
  {
   "cell_type": "markdown",
   "source": [
    "### Como esperado resultou num modelo que prevê que todas as compras são no cartão de crédito. Não é nem necessário entrar em detalhes com a matriz de confusão e afins. Partimos para o SVM, que tenta criar zonas e barreiras no dataset para capturar padrões."
   ],
   "metadata": {
    "collapsed": false
   },
   "id": "7142cd81fb072a5d"
  },
  {
   "cell_type": "code",
   "execution_count": 149,
   "outputs": [
    {
     "name": "stderr",
     "output_type": "stream",
     "text": [
      "C:\\Users\\Outback_Steakhouse\\anaconda3\\Lib\\site-packages\\sklearn\\svm\\_base.py:297: ConvergenceWarning: Solver terminated early (max_iter=200).  Consider pre-processing your data with StandardScaler or MinMaxScaler.\n",
      "  warnings.warn(\n"
     ]
    }
   ],
   "source": [
    "from sklearn import svm\n",
    "\n",
    "SVMRegModel = svm.SVC(max_iter=200,random_state=64);\n",
    "SVMRegModel.fit(X_train,y_train);\n",
    "resultado_SVMReg = pd.DataFrame(SVMRegModel.predict(X_test));\n"
   ],
   "metadata": {
    "collapsed": false,
    "ExecuteTime": {
     "end_time": "2023-12-01T20:48:28.361831200Z",
     "start_time": "2023-12-01T20:48:12.629804900Z"
    }
   },
   "id": "ee3b62aa9a7dcb52"
  },
  {
   "cell_type": "code",
   "execution_count": 150,
   "outputs": [
    {
     "data": {
      "text/plain": "voucher        16229\ndebit_card      2243\nboleto          2028\ncredit_card      277\nName: count, dtype: int64"
     },
     "execution_count": 150,
     "metadata": {},
     "output_type": "execute_result"
    }
   ],
   "source": [
    "resultado_SVMReg.value_counts()"
   ],
   "metadata": {
    "collapsed": false,
    "ExecuteTime": {
     "end_time": "2023-12-01T20:48:28.379383200Z",
     "start_time": "2023-12-01T20:48:28.363068900Z"
    }
   },
   "id": "bd618a061556ea79"
  },
  {
   "cell_type": "markdown",
   "source": [
    "### Mesmo após várias tentativas o SMV insiste em classificar a maioria dos elementos como Voucher, algo na distribuição dos valores inviabiliza o algorítmo. Partiremos então para o último e mais robusto modelo: Random Forest.\n"
   ],
   "metadata": {
    "collapsed": false
   },
   "id": "459a18539fea362e"
  },
  {
   "cell_type": "code",
   "execution_count": 151,
   "outputs": [],
   "source": [
    "from sklearn.ensemble import RandomForestClassifier\n",
    "RFC = RandomForestClassifier(random_state=64)\n",
    "RFC.fit(X_train,y_train);\n",
    "resultadoRFC = RFC.predict(X_test)\n"
   ],
   "metadata": {
    "collapsed": false,
    "ExecuteTime": {
     "end_time": "2023-12-01T20:49:31.203238200Z",
     "start_time": "2023-12-01T20:48:28.379383200Z"
    }
   },
   "id": "c53cbd65609d6dc9"
  },
  {
   "cell_type": "code",
   "execution_count": 152,
   "outputs": [],
   "source": [
    "resultRFC = pd.DataFrame(resultadoRFC)"
   ],
   "metadata": {
    "collapsed": false,
    "ExecuteTime": {
     "end_time": "2023-12-01T20:49:31.220962600Z",
     "start_time": "2023-12-01T20:49:31.208114400Z"
    }
   },
   "id": "e592c185787f7bbc"
  },
  {
   "cell_type": "code",
   "execution_count": 153,
   "outputs": [
    {
     "data": {
      "text/plain": "credit_card    17153\nboleto          2689\nvoucher          753\ndebit_card       182\nName: count, dtype: int64"
     },
     "execution_count": 153,
     "metadata": {},
     "output_type": "execute_result"
    }
   ],
   "source": [
    "resultRFC.value_counts()"
   ],
   "metadata": {
    "collapsed": false,
    "ExecuteTime": {
     "end_time": "2023-12-01T20:49:31.239885100Z",
     "start_time": "2023-12-01T20:49:31.214439100Z"
    }
   },
   "id": "c8e7260b70400403"
  },
  {
   "cell_type": "markdown",
   "source": [
    "### Só pela distribuição dos valores percebemos uma melhora. Prosseguiremos apenas com Random Forest daqui para frente. Vamos analisar a matriz de confusão."
   ],
   "metadata": {
    "collapsed": false
   },
   "id": "de72e8e8ae03b665"
  },
  {
   "cell_type": "code",
   "execution_count": 170,
   "outputs": [
    {
     "data": {
      "text/plain": "<sklearn.metrics._plot.confusion_matrix.ConfusionMatrixDisplay at 0x1e62a6f1890>"
     },
     "execution_count": 170,
     "metadata": {},
     "output_type": "execute_result"
    }
   ],
   "source": [
    "\n",
    "from sklearn.metrics import confusion_matrix, ConfusionMatrixDisplay\n",
    "sns.set_style(\"whitegrid\",{\"grid.linestyle\": \"\"})\n",
    "\n",
    "CM = confusion_matrix(y_test,resultRFC,labels=RFC.classes_)\n",
    "disp = ConfusionMatrixDisplay(confusion_matrix=CM, display_labels=RFC.classes_)\n",
    "disp.plot(cmap='magma')"
   ],
   "metadata": {
    "collapsed": false,
    "ExecuteTime": {
     "end_time": "2023-12-01T21:11:04.295015600Z",
     "start_time": "2023-12-01T21:11:04.146263500Z"
    }
   },
   "id": "95507efe54eb0307"
  },
  {
   "cell_type": "code",
   "execution_count": 171,
   "outputs": [
    {
     "data": {
      "text/plain": "<Figure size 640x480 with 2 Axes>",
      "image/png": "[encoded data removed]"
     },
     "metadata": {},
     "output_type": "display_data"
    }
   ],
   "source": [
    "plt.show()"
   ],
   "metadata": {
    "collapsed": false,
    "ExecuteTime": {
     "end_time": "2023-12-01T21:11:06.315160100Z",
     "start_time": "2023-12-01T21:11:06.008310300Z"
    }
   },
   "id": "1546fa3cb4940aaa"
  },
  {
   "cell_type": "markdown",
   "source": [
    "### Percebemos que o modelo acerta na estimativa do cartão de crédito aproximadamente 90% das vezes. Mas erra todas as outras classes em mais de 90% sendo necessário refinar o modelo. Vamos tentar adicionar uma feature."
   ],
   "metadata": {
    "collapsed": false
   },
   "id": "e32ee8658b1d7775"
  },
  {
   "cell_type": "markdown",
   "source": [
    "### Utilizando os dados geográficos disponíveis nas tabelas iniciais vamos adicionar a coluna \"capital\" que simboliza se o comprador mora numa cidade que é a capital do estado ou não. A motivação seria que pessoas na capital em geral possuem maior poder aquisitivo então os hábitos de compra também devem tem alguma mudança."
   ],
   "metadata": {
    "collapsed": false
   },
   "id": "824da5aceeb1c7da"
  },
  {
   "cell_type": "code",
   "execution_count": 180,
   "outputs": [],
   "source": [
    "def capital_selector(estado, cidade):\n",
    "    sigla_cidade={'AC': \"rio branco\", \n",
    "          'AL': \"maceio\", \n",
    "          'AM': \"manaus\", \n",
    "          'AP': \"macapa\", \n",
    "          'BA': \"salvador\", \n",
    "          'CE': \"fortaleza\", \n",
    "          'DF': \"brasilia\", \n",
    "          'ES': \"vitoria\", \n",
    "          'GO': \"goiania\", \n",
    "          'MA': \"sao luis\", \n",
    "          'MG': \"belo horizonte\", \n",
    "          'MS': \"porto alegre\",\n",
    "          'MT': \"cuiaba\",\n",
    "          'PA': \"belem\",\n",
    "          'PB': \"joao pessoa\",\n",
    "          'PE': \"recife\",\n",
    "          'PI': \"teresina\",\n",
    "          'PR': \"curitba\",\n",
    "          'RJ': \"rio de janeiro\",\n",
    "          'RN': \"natal\",\n",
    "          'RO': \"porto velho\",\n",
    "          'RR': \"boa vista\",\n",
    "          'RS': \"porto alegre\",\n",
    "          'SC': \"florianopolis\",\n",
    "          'SE': \"aracaju\",\n",
    "          'SP': \"sao paulo\",\n",
    "          'TO': \"palmas\"\n",
    "          }\n",
    "    if sigla_cidade[estado] == cidade:\n",
    "        return 1\n",
    "    else:\n",
    "        return 0"
   ],
   "metadata": {
    "collapsed": false,
    "ExecuteTime": {
     "end_time": "2023-12-01T21:39:41.916273100Z",
     "start_time": "2023-12-01T21:39:41.890981200Z"
    }
   },
   "id": "d651fe30e440900a"
  },
  {
   "cell_type": "code",
   "execution_count": 193,
   "outputs": [
    {
     "data": {
      "text/plain": "0         0\n1         1\n2         1\n3         0\n4         0\n         ..\n103878    0\n103879    1\n103880    1\n103881    1\n103882    1\nName: Capital, Length: 103883, dtype: int64"
     },
     "execution_count": 193,
     "metadata": {},
     "output_type": "execute_result"
    }
   ],
   "source": [
    "eh_capital = [capital_selector(linha.customer_state,linha.customer_city) for index, linha in pagamentos_cep.iterrows()]\n",
    "capital_serie = pd.Series(eh_capital)\n",
    "capital_serie.rename(\"Capital\",inplace=True)"
   ],
   "metadata": {
    "collapsed": false,
    "ExecuteTime": {
     "end_time": "2023-12-01T21:54:50.842888300Z",
     "start_time": "2023-12-01T21:54:40.609678500Z"
    }
   },
   "id": "eeb246fb52ae0f6"
  },
  {
   "cell_type": "markdown",
   "source": [
    "## Repreparando as features:"
   ],
   "metadata": {
    "collapsed": false
   },
   "id": "bc6428f30710c656"
  },
  {
   "cell_type": "code",
   "execution_count": 194,
   "outputs": [
    {
     "data": {
      "text/plain": "   payment_value  AC  AL  AM  AP  BA  CE  DF  ES  GO  ...  RJ  RN  RO  RR  RS  \\\n0          99.33   0   0   0   0   0   0   0   0   0  ...   0   0   0   0   0   \n1          24.39   0   0   0   0   0   0   0   0   0  ...   0   0   0   0   0   \n2          65.71   0   0   0   0   0   0   0   0   0  ...   0   0   0   0   0   \n3         107.78   0   0   0   0   0   0   0   0   0  ...   0   0   0   0   0   \n4         128.45   0   0   0   0   0   0   0   0   0  ...   0   0   0   0   0   \n\n   SC  SE  SP  TO  Capital  \n0   0   0   0   0        0  \n1   0   0   1   0        1  \n2   0   0   1   0        1  \n3   0   0   0   0        0  \n4   0   0   1   0        0  \n\n[5 rows x 29 columns]",
      "text/html": "<div>\n<style scoped>\n    .dataframe tbody tr th:only-of-type {\n        vertical-align: middle;\n    }\n\n    .dataframe tbody tr th {\n        vertical-align: top;\n    }\n\n    .dataframe thead th {\n        text-align: right;\n    }\n</style>\n<table border=\"1\" class=\"dataframe\">\n  <thead>\n    <tr style=\"text-align: right;\">\n      <th></th>\n      <th>payment_value</th>\n      <th>AC</th>\n      <th>AL</th>\n      <th>AM</th>\n      <th>AP</th>\n      <th>BA</th>\n      <th>CE</th>\n      <th>DF</th>\n      <th>ES</th>\n      <th>GO</th>\n      <th>...</th>\n      <th>RJ</th>\n      <th>RN</th>\n      <th>RO</th>\n      <th>RR</th>\n      <th>RS</th>\n      <th>SC</th>\n      <th>SE</th>\n      <th>SP</th>\n      <th>TO</th>\n      <th>Capital</th>\n    </tr>\n  </thead>\n  <tbody>\n    <tr>\n      <th>0</th>\n      <td>99.33</td>\n      <td>0</td>\n      <td>0</td>\n      <td>0</td>\n      <td>0</td>\n      <td>0</td>\n      <td>0</td>\n      <td>0</td>\n      <td>0</td>\n      <td>0</td>\n      <td>...</td>\n      <td>0</td>\n      <td>0</td>\n      <td>0</td>\n      <td>0</td>\n      <td>0</td>\n      <td>0</td>\n      <td>0</td>\n      <td>0</td>\n      <td>0</td>\n      <td>0</td>\n    </tr>\n    <tr>\n      <th>1</th>\n      <td>24.39</td>\n      <td>0</td>\n      <td>0</td>\n      <td>0</td>\n      <td>0</td>\n      <td>0</td>\n      <td>0</td>\n      <td>0</td>\n      <td>0</td>\n      <td>0</td>\n      <td>...</td>\n      <td>0</td>\n      <td>0</td>\n      <td>0</td>\n      <td>0</td>\n      <td>0</td>\n      <td>0</td>\n      <td>0</td>\n      <td>1</td>\n      <td>0</td>\n      <td>1</td>\n    </tr>\n    <tr>\n      <th>2</th>\n      <td>65.71</td>\n      <td>0</td>\n      <td>0</td>\n      <td>0</td>\n      <td>0</td>\n      <td>0</td>\n      <td>0</td>\n      <td>0</td>\n      <td>0</td>\n      <td>0</td>\n      <td>...</td>\n      <td>0</td>\n      <td>0</td>\n      <td>0</td>\n      <td>0</td>\n      <td>0</td>\n      <td>0</td>\n      <td>0</td>\n      <td>1</td>\n      <td>0</td>\n      <td>1</td>\n    </tr>\n    <tr>\n      <th>3</th>\n      <td>107.78</td>\n      <td>0</td>\n      <td>0</td>\n      <td>0</td>\n      <td>0</td>\n      <td>0</td>\n      <td>0</td>\n      <td>0</td>\n      <td>0</td>\n      <td>0</td>\n      <td>...</td>\n      <td>0</td>\n      <td>0</td>\n      <td>0</td>\n      <td>0</td>\n      <td>0</td>\n      <td>0</td>\n      <td>0</td>\n      <td>0</td>\n      <td>0</td>\n      <td>0</td>\n    </tr>\n    <tr>\n      <th>4</th>\n      <td>128.45</td>\n      <td>0</td>\n      <td>0</td>\n      <td>0</td>\n      <td>0</td>\n      <td>0</td>\n      <td>0</td>\n      <td>0</td>\n      <td>0</td>\n      <td>0</td>\n      <td>...</td>\n      <td>0</td>\n      <td>0</td>\n      <td>0</td>\n      <td>0</td>\n      <td>0</td>\n      <td>0</td>\n      <td>0</td>\n      <td>1</td>\n      <td>0</td>\n      <td>0</td>\n    </tr>\n  </tbody>\n</table>\n<p>5 rows × 29 columns</p>\n</div>"
     },
     "execution_count": 194,
     "metadata": {},
     "output_type": "execute_result"
    }
   ],
   "source": [
    "X_capital = X.join(capital_serie)\n",
    "X_capital.head()"
   ],
   "metadata": {
    "collapsed": false,
    "ExecuteTime": {
     "end_time": "2023-12-01T21:58:09.722719400Z",
     "start_time": "2023-12-01T21:58:09.573570100Z"
    }
   },
   "id": "e1143d617cbb6acc"
  },
  {
   "cell_type": "code",
   "execution_count": 195,
   "outputs": [],
   "source": [
    "X_trainC, X_testC, y_trainC, y_testC = train_test_split(X_capital,y,test_size=0.2,random_state=64)"
   ],
   "metadata": {
    "collapsed": false,
    "ExecuteTime": {
     "end_time": "2023-12-01T21:59:12.623284800Z",
     "start_time": "2023-12-01T21:59:12.464349300Z"
    }
   },
   "id": "2830e047aa156560"
  },
  {
   "cell_type": "code",
   "execution_count": 197,
   "outputs": [],
   "source": [
    "RFC_capital = RandomForestClassifier(random_state=64)\n",
    "RFC_capital.fit(X_trainC,y_trainC);\n",
    "resultadoRFC_capital = RFC_capital.predict(X_testC)"
   ],
   "metadata": {
    "collapsed": false,
    "ExecuteTime": {
     "end_time": "2023-12-01T22:02:43.719790700Z",
     "start_time": "2023-12-01T22:01:44.764552200Z"
    }
   },
   "id": "ae53199e63fa0ec0"
  },
  {
   "cell_type": "code",
   "execution_count": 199,
   "outputs": [],
   "source": [
    "resultRFC_capital = pd.DataFrame(resultadoRFC_capital)"
   ],
   "metadata": {
    "collapsed": false,
    "ExecuteTime": {
     "end_time": "2023-12-01T22:03:53.899435700Z",
     "start_time": "2023-12-01T22:03:53.816973200Z"
    }
   },
   "id": "603360a38ef903d0"
  },
  {
   "cell_type": "code",
   "execution_count": 201,
   "outputs": [
    {
     "data": {
      "text/plain": "credit_card    16779\nboleto          2996\nvoucher          785\ndebit_card       217\nName: count, dtype: int64"
     },
     "execution_count": 201,
     "metadata": {},
     "output_type": "execute_result"
    }
   ],
   "source": [
    "resultRFC_capital.value_counts()"
   ],
   "metadata": {
    "collapsed": false,
    "ExecuteTime": {
     "end_time": "2023-12-01T22:04:08.129468400Z",
     "start_time": "2023-12-01T22:04:08.060773100Z"
    }
   },
   "id": "164069a05305793a"
  },
  {
   "cell_type": "code",
   "execution_count": 203,
   "outputs": [
    {
     "data": {
      "text/plain": "<sklearn.metrics._plot.confusion_matrix.ConfusionMatrixDisplay at 0x1e646603290>"
     },
     "execution_count": 203,
     "metadata": {},
     "output_type": "execute_result"
    }
   ],
   "source": [
    "CM_capital = confusion_matrix(y_testC,resultRFC_capital,labels=RFC_capital.classes_)\n",
    "disp_capital = ConfusionMatrixDisplay(confusion_matrix=CM_capital, display_labels=RFC_capital.classes_)\n",
    "disp_capital.plot(cmap='magma')"
   ],
   "metadata": {
    "collapsed": false,
    "ExecuteTime": {
     "end_time": "2023-12-01T22:05:58.495273600Z",
     "start_time": "2023-12-01T22:05:58.343584Z"
    }
   },
   "id": "d302393fc116e335"
  },
  {
   "cell_type": "code",
   "execution_count": 204,
   "outputs": [
    {
     "data": {
      "text/plain": "<Figure size 640x480 with 2 Axes>",
      "image/png": "[encoded data removed]"
     },
     "metadata": {},
     "output_type": "display_data"
    }
   ],
   "source": [
    "plt.show()"
   ],
   "metadata": {
    "collapsed": false,
    "ExecuteTime": {
     "end_time": "2023-12-01T22:06:04.095688300Z",
     "start_time": "2023-12-01T22:06:03.766754900Z"
    }
   },
   "id": "54bdf7f90f7b47bd"
  },
  {
   "cell_type": "markdown",
   "source": [
    "### A matriz de confusão é quase identica a primeira tentativa. Adicionar a coluna capital não parece ter surtido muito efeito. Vamos tentar então validação cruzada com vários parâmetros. Utilizaremos acurácia balanceada como medida de erro."
   ],
   "metadata": {
    "collapsed": false
   },
   "id": "5a95ad850d3b2939"
  },
  {
   "cell_type": "code",
   "execution_count": null,
   "outputs": [],
   "source": [
    "from sklearn.model_selection import GridSearchCV\n",
    "FinalRandomForest = RandomForestClassifier(random_state=64)\n",
    "parametros = {'n_estimators':[1, 5, 10, 50, 100, 200],\n",
    "              'bootstrap':[True,False]\n",
    "              }\n",
    "grid = GridSearchCV(estimator = FinalRandomForest,\n",
    "                      param_grid = parametros,\n",
    "                      cv = 5,\n",
    "                      scoring = 'balanced_accuracy')\n",
    "\n",
    "grid.fit(X_train,y_train)"
   ],
   "metadata": {
    "collapsed": false,
    "is_executing": true,
    "ExecuteTime": {
     "start_time": "2023-12-01T22:26:57.339379500Z"
    }
   },
   "id": "52336c227a859a06"
  },
  {
   "cell_type": "code",
   "execution_count": null,
   "outputs": [],
   "source": [],
   "metadata": {
    "collapsed": false
   },
   "id": "1756825bc7960a66"
  }
 ],
 "metadata": {
  "kernelspec": {
   "display_name": "Python 3",
   "language": "python",
   "name": "python3"
  },
  "language_info": {
   "codemirror_mode": {
    "name": "ipython",
    "version": 2
   },
   "file_extension": ".py",
   "mimetype": "text/x-python",
   "name": "python",
   "nbconvert_exporter": "python",
   "pygments_lexer": "ipython2",
   "version": "2.7.6"
  }
 },
 "nbformat": 4,
 "nbformat_minor": 5
}
